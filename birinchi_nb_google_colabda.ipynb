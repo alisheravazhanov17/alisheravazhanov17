{
  "nbformat": 4,
  "nbformat_minor": 0,
  "metadata": {
    "colab": {
      "provenance": [],
      "authorship_tag": "ABX9TyMC9Q8pDrAL64gPM4wBI83N",
      "include_colab_link": true
    },
    "kernelspec": {
      "name": "python3",
      "display_name": "Python 3"
    },
    "language_info": {
      "name": "python"
    }
  },
  "cells": [
    {
      "cell_type": "markdown",
      "metadata": {
        "id": "view-in-github",
        "colab_type": "text"
      },
      "source": [
        "<a href=\"https://colab.research.google.com/github/alisheravazhanov17/alisheravazhanov17/blob/main/birinchi_nb_google_colabda.ipynb\" target=\"_parent\"><img src=\"https://colab.research.google.com/assets/colab-badge.svg\" alt=\"Open In Colab\"/></a>"
      ]
    },
    {
      "cell_type": "code",
      "execution_count": null,
      "metadata": {
        "id": "4-HP_2K10iXD",
        "outputId": "d4fd5ad1-e545-4351-b45c-7adb2fbe3c6a",
        "colab": {
          "base_uri": "https://localhost:8080/"
        }
      },
      "outputs": [
        {
          "output_type": "stream",
          "name": "stdout",
          "text": [
            "2.12.0\n",
            "2.0.1+cu118\n",
            "1.2.2\n",
            "0.12.2\n",
            "False\n"
          ]
        }
      ],
      "source": [
        "import numpy as np\n",
        "import pandas as pd\n",
        "import sklearn\n",
        "import matplotlib.pyplot as plt\n",
        "import seaborn as sns\n",
        "import torch\n",
        "import tensorflow as tf\n",
        "import keras\n",
        "print(tf.__version__)\n",
        "print(torch.__version__)\n",
        "print(sklearn.__version__)\n",
        "print(sns.__version__)\n",
        "print(torch.cuda.is_available())"
      ]
    },
    {
      "cell_type": "code",
      "source": [
        "import numpy as np\n",
        "import pandas as pd\n",
        "import sklearn\n",
        "import matplotlib.pyplot as plt\n",
        "import seaborn as sns\n",
        "import torch\n",
        "import tensorflow as tf\n",
        "import keras\n",
        "print(tf.__version__)\n",
        "print(torch.__version__)\n",
        "print(sklearn.__version__)\n",
        "print(sns.__version__)\n",
        "print(torch.cuda.is_available())"
      ],
      "metadata": {
        "id": "Yz_iQlxF0i_d",
        "colab": {
          "base_uri": "https://localhost:8080/"
        },
        "outputId": "e768b607-f6c5-4e01-8407-d5f3fb86400d"
      },
      "execution_count": 2,
      "outputs": [
        {
          "output_type": "stream",
          "name": "stdout",
          "text": [
            "2.12.0\n",
            "2.0.1+cu118\n",
            "1.2.2\n",
            "0.12.2\n",
            "False\n"
          ]
        }
      ]
    },
    {
      "cell_type": "code",
      "source": [],
      "metadata": {
        "id": "dwSUPD6X00IN"
      },
      "execution_count": null,
      "outputs": []
    }
  ]
}